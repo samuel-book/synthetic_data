{
 "cells": [
  {
   "cell_type": "markdown",
   "metadata": {},
   "source": [
    "# Creation of artificial (synthetic) patient data\n",
    "\n",
    "Note: This artificial data is intended only for use in exploring the methods, using up to 10 features. The method of synthethis does not maintain any covariance between features (as feature values are created independetly of each other, to eliminate any risk of identifying original data), though average feature values for patients at each hopsital are approximately maintained. These data may be used to train models with minimal loss of accuracy.\n",
    "\n",
    "The key methodology is:\n",
    "\n",
    "* Remove thrombolysis label\n",
    "* Group original data by hopsital\n",
    "    * For each of 10 features take bootstrap samples of that feature\n",
    "* Combine data across hospitals\n",
    "* Remove any duplicate rows, or rows that are identical to original data\n",
    "* Train an XGBoost model on original data to predict use of thrombolysis\n",
    "* Use the XGBoost model to leabl the synthetic data"
   ]
  },
  {
   "cell_type": "markdown",
   "metadata": {},
   "source": [
    "## Load packages"
   ]
  },
  {
   "cell_type": "code",
   "execution_count": 1,
   "metadata": {},
   "outputs": [],
   "source": [
    "# Turn warnings off to keep notebook tidy\n",
    "import warnings\n",
    "warnings.filterwarnings(\"ignore\")\n",
    "\n",
    "import matplotlib.pyplot as plt\n",
    "import numpy as np\n",
    "import pandas as pd\n",
    "from scipy import stats\n",
    "from scipy.spatial.distance import jensenshannon\n",
    "from sklearn.metrics import auc\n",
    "from sklearn.metrics import roc_curve\n",
    "from sklearn.model_selection import StratifiedKFold\n",
    "from sklearn.neighbors import NearestNeighbors\n",
    "from sklearn.preprocessing import StandardScaler\n",
    "from sklearn.model_selection import train_test_split\n",
    "from xgboost import XGBClassifier"
   ]
  },
  {
   "cell_type": "markdown",
   "metadata": {},
   "source": [
    "## Load data"
   ]
  },
  {
   "cell_type": "code",
   "execution_count": 2,
   "metadata": {},
   "outputs": [],
   "source": [
    "# Load data\n",
    "data_loc = '../data/samuel_1/10k_training_test/'\n",
    "original_data = pd.read_csv(data_loc + 'cohort_10000_train.csv')\n",
    "\n",
    "# Get stroke teams = \n",
    "stroke_teams = list(set(original_data['StrokeTeam']))\n",
    "stroke_teams.sort()\n"
   ]
  },
  {
   "cell_type": "markdown",
   "metadata": {},
   "source": [
    "## Create unlabelled synthetic data by bootstrap sampling from individual feature values"
   ]
  },
  {
   "cell_type": "code",
   "execution_count": 3,
   "metadata": {},
   "outputs": [],
   "source": [
    "cases = 1000\n",
    "synthetic_data_list = []\n",
    "\n",
    "# Sample data for each stroke team\n",
    "for stroke_team in stroke_teams:\n",
    "    # Set up data frame for synthetic team data\n",
    "    synthetic_data = pd.DataFrame()\n",
    "    \n",
    "    # Get original team data\n",
    "    mask = original_data['StrokeTeam'] == stroke_team\n",
    "    team_data = original_data[mask]\n",
    "    team_data_length = len(team_data)\n",
    "    \n",
    "    # Set team\n",
    "    synthetic_data['StrokeTeam'] = np.repeat(stroke_team, cases)\n",
    "    # Sample individual items from orioginal data with replacement\n",
    "\n",
    "    # Sample rrival to image time\n",
    "    times = np.random.choice(\n",
    "        team_data['S2BrainImagingTime_min'], replace=True, size=cases)\n",
    "    \n",
    "    # Clip times to 0-360\n",
    "    times = np.clip(times, 0, 360)\n",
    "    \n",
    "    # Round times to nearest 5 minutes\n",
    "    synthetic_data['S2BrainImagingTime_min'] =  np.round(times / 5) * 5\n",
    "    \n",
    "    # Sample features independently from observed values\n",
    "\n",
    "    synthetic_data['S2StrokeType_Infarction'] = np.random.choice(\n",
    "        team_data['S2StrokeType_Infarction'], replace=True, size=cases)\n",
    "\n",
    "    synthetic_data['S2NihssArrival'] = np.random.choice(\n",
    "        team_data['S2NihssArrival'], replace=True, size=cases)\n",
    "    \n",
    "    synthetic_data['S2RankinBeforeStroke'] = np.random.choice(\n",
    "        team_data['S2RankinBeforeStroke'], replace=True, size=cases)\n",
    "    \n",
    "    synthetic_data['AFAnticoagulent_Yes'] = np.random.choice(\n",
    "        team_data['AFAnticoagulent_Yes'], replace=True, size=cases)\n",
    "\n",
    "    times = np.random.choice(\n",
    "        team_data['S1OnsetToArrival_min'], replace=True, size=cases)\n",
    "    synthetic_data['S1OnsetToArrival_min'] = np.round(times / 5) * 5\n",
    "    \n",
    "    synthetic_data['S1AgeOnArrival'] = np.random.choice(\n",
    "        team_data['S1AgeOnArrival'], replace=True, size=cases)\n",
    "    \n",
    "    # Clip age to 40-100\n",
    "    synthetic_data['S1AgeOnArrival'] = np.clip(synthetic_data['S1AgeOnArrival'], 40, 100)\n",
    "        \n",
    "    # Use the same random index for S1OnsetTimeType_Precise and S1OnsetDateType_Stroke\n",
    "    random_index = np.random.randint(0, team_data_length, size=cases)\n",
    "\n",
    "    synthetic_data['S1OnsetTimeType_Precise'] = \\\n",
    "            [team_data['S1OnsetTimeType_Precise'].iloc[i] for i in random_index]\n",
    "    \n",
    "    synthetic_data['S1OnsetDateType_Stroke during sleep'] = \\\n",
    "            [team_data['S1OnsetDateType_Stroke during sleep'].iloc[i] for i in random_index]    \n",
    "\n",
    "    # Add team data to full synthetic data\n",
    "    synthetic_data_list.append(synthetic_data)\n",
    "\n",
    "# Concatenate lists\n",
    "synthetic_data_df = pd.concat(synthetic_data_list)\n",
    "\n",
    "# Shuffle data\n",
    "synthetic_data_df = synthetic_data_df.sample(frac=1)"
   ]
  },
  {
   "cell_type": "markdown",
   "metadata": {},
   "source": [
    "## Train a model on original data, to use to label synthetic data"
   ]
  },
  {
   "cell_type": "code",
   "execution_count": 5,
   "metadata": {},
   "outputs": [
    {
     "name": "stdout",
     "output_type": "stream",
     "text": [
      "Accuracy: 0.848\n"
     ]
    }
   ],
   "source": [
    "# Load data\n",
    "train = pd.read_csv(data_loc + 'cohort_10000_train.csv')\n",
    "test = pd.read_csv(data_loc + 'cohort_10000_test.csv')\n",
    "\n",
    "# Read in the names of the selected features for the model\n",
    "number_of_features_to_use = 10\n",
    "key_features = pd.read_csv('../data/samuel_1/feature_selection.csv')\n",
    "key_features = list(key_features['feature'])[:number_of_features_to_use]\n",
    "# And add the target feature name: S2Thrombolysis\n",
    "key_features.append(\"S2Thrombolysis\")\n",
    "\n",
    "# Select features\n",
    "train = train[key_features]\n",
    "test = test[key_features]\n",
    "\n",
    "# Get X and y\n",
    "X_train = train.drop('S2Thrombolysis', axis=1)\n",
    "X_test = test.drop('S2Thrombolysis', axis=1)\n",
    "y_train = train['S2Thrombolysis']\n",
    "y_test = test['S2Thrombolysis']\n",
    "\n",
    "# One hot encode hospitals\n",
    "X_train_hosp = pd.get_dummies(X_train['StrokeTeam'], prefix = 'team')\n",
    "X_train = pd.concat([X_train, X_train_hosp], axis=1)\n",
    "X_train.drop('StrokeTeam', axis=1, inplace=True)\n",
    "X_test_hosp = pd.get_dummies(X_test['StrokeTeam'], prefix = 'team')\n",
    "X_test = pd.concat([X_test, X_test_hosp], axis=1)\n",
    "X_test.drop('StrokeTeam', axis=1, inplace=True)    \n",
    "\n",
    "# Define model\n",
    "model = XGBClassifier(verbosity=0, seed=42, learning_rate=0.5)\n",
    "\n",
    "# Fit model\n",
    "model.fit(X_train, y_train)\n",
    "\n",
    "# Get predicted probabilities and class\n",
    "y_probs_original = model.predict_proba(X_test)[:,1]\n",
    "y_pred_original = y_probs_original > 0.5\n",
    "\n",
    "# Show accuracy\n",
    "accuracy = np.mean(y_pred_original == y_test)\n",
    "print (f'Accuracy: {accuracy:.3f}')"
   ]
  },
  {
   "cell_type": "markdown",
   "metadata": {},
   "source": [
    "## Predict label for synthetic data set"
   ]
  },
  {
   "cell_type": "code",
   "execution_count": 6,
   "metadata": {},
   "outputs": [],
   "source": [
    "# One hot encode hopsitals\n",
    "X_features = key_features.copy(); X_features.remove('S2Thrombolysis')\n",
    "X_synthetic = synthetic_data_df[X_features]\n",
    "X_synthetic_hosp = pd.get_dummies(X_synthetic['StrokeTeam'], prefix = 'team')\n",
    "X_synthetic = pd.concat([X_synthetic, X_synthetic_hosp], axis=1)\n",
    "X_synthetic.drop('StrokeTeam', axis=1, inplace=True)"
   ]
  },
  {
   "cell_type": "code",
   "execution_count": 7,
   "metadata": {},
   "outputs": [],
   "source": [
    "# Get predicted probabilities and class\n",
    "y_probs = model.predict_proba(X_synthetic)[:,1]\n",
    "y_pred = np.array([np.random.binomial(1, p) for p in y_probs])\n",
    "\n",
    "# Ensure non-iscaemica stroke have no thrombolysis\n",
    "mask = synthetic_data_df['S2StrokeType_Infarction'] == 0\n",
    "y_pred[mask] = 0\n",
    "\n",
    "synthetic_data_df['S2Thrombolysis'] = y_pred\n",
    "# Save\n",
    "synthetic_data_df.to_csv('./output/synthetic_10K_train.csv', index=False)"
   ]
  },
  {
   "cell_type": "code",
   "execution_count": 8,
   "metadata": {},
   "outputs": [
    {
     "data": {
      "text/html": [
       "<div>\n",
       "<style scoped>\n",
       "    .dataframe tbody tr th:only-of-type {\n",
       "        vertical-align: middle;\n",
       "    }\n",
       "\n",
       "    .dataframe tbody tr th {\n",
       "        vertical-align: top;\n",
       "    }\n",
       "\n",
       "    .dataframe thead th {\n",
       "        text-align: right;\n",
       "    }\n",
       "</style>\n",
       "<table border=\"1\" class=\"dataframe\">\n",
       "  <thead>\n",
       "    <tr style=\"text-align: right;\">\n",
       "      <th></th>\n",
       "      <th>StrokeTeam</th>\n",
       "      <th>S2BrainImagingTime_min</th>\n",
       "      <th>S2StrokeType_Infarction</th>\n",
       "      <th>S2NihssArrival</th>\n",
       "      <th>S2RankinBeforeStroke</th>\n",
       "      <th>AFAnticoagulent_Yes</th>\n",
       "      <th>S1OnsetToArrival_min</th>\n",
       "      <th>S1AgeOnArrival</th>\n",
       "      <th>S1OnsetTimeType_Precise</th>\n",
       "      <th>S1OnsetDateType_Stroke during sleep</th>\n",
       "      <th>S2Thrombolysis</th>\n",
       "    </tr>\n",
       "  </thead>\n",
       "  <tbody>\n",
       "    <tr>\n",
       "      <th>469</th>\n",
       "      <td>IYJHY1440E</td>\n",
       "      <td>5.0</td>\n",
       "      <td>1</td>\n",
       "      <td>4.0</td>\n",
       "      <td>0</td>\n",
       "      <td>0</td>\n",
       "      <td>50.0</td>\n",
       "      <td>87.5</td>\n",
       "      <td>0</td>\n",
       "      <td>0</td>\n",
       "      <td>0</td>\n",
       "    </tr>\n",
       "    <tr>\n",
       "      <th>821</th>\n",
       "      <td>QZMCK3259S</td>\n",
       "      <td>30.0</td>\n",
       "      <td>1</td>\n",
       "      <td>22.0</td>\n",
       "      <td>0</td>\n",
       "      <td>0</td>\n",
       "      <td>80.0</td>\n",
       "      <td>77.5</td>\n",
       "      <td>0</td>\n",
       "      <td>0</td>\n",
       "      <td>1</td>\n",
       "    </tr>\n",
       "    <tr>\n",
       "      <th>64</th>\n",
       "      <td>ISIZF6614O</td>\n",
       "      <td>15.0</td>\n",
       "      <td>1</td>\n",
       "      <td>10.0</td>\n",
       "      <td>0</td>\n",
       "      <td>0</td>\n",
       "      <td>175.0</td>\n",
       "      <td>77.5</td>\n",
       "      <td>1</td>\n",
       "      <td>0</td>\n",
       "      <td>0</td>\n",
       "    </tr>\n",
       "    <tr>\n",
       "      <th>839</th>\n",
       "      <td>SBYTE4026H</td>\n",
       "      <td>60.0</td>\n",
       "      <td>1</td>\n",
       "      <td>8.0</td>\n",
       "      <td>0</td>\n",
       "      <td>0</td>\n",
       "      <td>130.0</td>\n",
       "      <td>72.5</td>\n",
       "      <td>1</td>\n",
       "      <td>0</td>\n",
       "      <td>1</td>\n",
       "    </tr>\n",
       "    <tr>\n",
       "      <th>956</th>\n",
       "      <td>BICAW1125K</td>\n",
       "      <td>80.0</td>\n",
       "      <td>1</td>\n",
       "      <td>3.0</td>\n",
       "      <td>0</td>\n",
       "      <td>0</td>\n",
       "      <td>50.0</td>\n",
       "      <td>77.5</td>\n",
       "      <td>1</td>\n",
       "      <td>0</td>\n",
       "      <td>0</td>\n",
       "    </tr>\n",
       "    <tr>\n",
       "      <th>...</th>\n",
       "      <td>...</td>\n",
       "      <td>...</td>\n",
       "      <td>...</td>\n",
       "      <td>...</td>\n",
       "      <td>...</td>\n",
       "      <td>...</td>\n",
       "      <td>...</td>\n",
       "      <td>...</td>\n",
       "      <td>...</td>\n",
       "      <td>...</td>\n",
       "      <td>...</td>\n",
       "    </tr>\n",
       "    <tr>\n",
       "      <th>410</th>\n",
       "      <td>EQZZZ5658G</td>\n",
       "      <td>20.0</td>\n",
       "      <td>1</td>\n",
       "      <td>5.0</td>\n",
       "      <td>0</td>\n",
       "      <td>0</td>\n",
       "      <td>140.0</td>\n",
       "      <td>77.5</td>\n",
       "      <td>1</td>\n",
       "      <td>0</td>\n",
       "      <td>1</td>\n",
       "    </tr>\n",
       "    <tr>\n",
       "      <th>980</th>\n",
       "      <td>HONZP0443O</td>\n",
       "      <td>45.0</td>\n",
       "      <td>0</td>\n",
       "      <td>27.0</td>\n",
       "      <td>3</td>\n",
       "      <td>1</td>\n",
       "      <td>55.0</td>\n",
       "      <td>62.5</td>\n",
       "      <td>0</td>\n",
       "      <td>0</td>\n",
       "      <td>0</td>\n",
       "    </tr>\n",
       "    <tr>\n",
       "      <th>706</th>\n",
       "      <td>PAOUI8935Z</td>\n",
       "      <td>125.0</td>\n",
       "      <td>1</td>\n",
       "      <td>11.0</td>\n",
       "      <td>0</td>\n",
       "      <td>0</td>\n",
       "      <td>100.0</td>\n",
       "      <td>62.5</td>\n",
       "      <td>0</td>\n",
       "      <td>0</td>\n",
       "      <td>0</td>\n",
       "    </tr>\n",
       "    <tr>\n",
       "      <th>67</th>\n",
       "      <td>TFSJP6914B</td>\n",
       "      <td>270.0</td>\n",
       "      <td>1</td>\n",
       "      <td>20.0</td>\n",
       "      <td>0</td>\n",
       "      <td>0</td>\n",
       "      <td>210.0</td>\n",
       "      <td>77.5</td>\n",
       "      <td>0</td>\n",
       "      <td>0</td>\n",
       "      <td>0</td>\n",
       "    </tr>\n",
       "    <tr>\n",
       "      <th>257</th>\n",
       "      <td>VZZSN1825O</td>\n",
       "      <td>15.0</td>\n",
       "      <td>1</td>\n",
       "      <td>6.0</td>\n",
       "      <td>0</td>\n",
       "      <td>0</td>\n",
       "      <td>45.0</td>\n",
       "      <td>92.5</td>\n",
       "      <td>1</td>\n",
       "      <td>0</td>\n",
       "      <td>1</td>\n",
       "    </tr>\n",
       "  </tbody>\n",
       "</table>\n",
       "<p>132000 rows × 11 columns</p>\n",
       "</div>"
      ],
      "text/plain": [
       "     StrokeTeam  S2BrainImagingTime_min  S2StrokeType_Infarction  \\\n",
       "469  IYJHY1440E                     5.0                        1   \n",
       "821  QZMCK3259S                    30.0                        1   \n",
       "64   ISIZF6614O                    15.0                        1   \n",
       "839  SBYTE4026H                    60.0                        1   \n",
       "956  BICAW1125K                    80.0                        1   \n",
       "..          ...                     ...                      ...   \n",
       "410  EQZZZ5658G                    20.0                        1   \n",
       "980  HONZP0443O                    45.0                        0   \n",
       "706  PAOUI8935Z                   125.0                        1   \n",
       "67   TFSJP6914B                   270.0                        1   \n",
       "257  VZZSN1825O                    15.0                        1   \n",
       "\n",
       "     S2NihssArrival  S2RankinBeforeStroke  AFAnticoagulent_Yes  \\\n",
       "469             4.0                     0                    0   \n",
       "821            22.0                     0                    0   \n",
       "64             10.0                     0                    0   \n",
       "839             8.0                     0                    0   \n",
       "956             3.0                     0                    0   \n",
       "..              ...                   ...                  ...   \n",
       "410             5.0                     0                    0   \n",
       "980            27.0                     3                    1   \n",
       "706            11.0                     0                    0   \n",
       "67             20.0                     0                    0   \n",
       "257             6.0                     0                    0   \n",
       "\n",
       "     S1OnsetToArrival_min  S1AgeOnArrival  S1OnsetTimeType_Precise  \\\n",
       "469                  50.0            87.5                        0   \n",
       "821                  80.0            77.5                        0   \n",
       "64                  175.0            77.5                        1   \n",
       "839                 130.0            72.5                        1   \n",
       "956                  50.0            77.5                        1   \n",
       "..                    ...             ...                      ...   \n",
       "410                 140.0            77.5                        1   \n",
       "980                  55.0            62.5                        0   \n",
       "706                 100.0            62.5                        0   \n",
       "67                  210.0            77.5                        0   \n",
       "257                  45.0            92.5                        1   \n",
       "\n",
       "     S1OnsetDateType_Stroke during sleep  S2Thrombolysis  \n",
       "469                                    0               0  \n",
       "821                                    0               1  \n",
       "64                                     0               0  \n",
       "839                                    0               1  \n",
       "956                                    0               0  \n",
       "..                                   ...             ...  \n",
       "410                                    0               1  \n",
       "980                                    0               0  \n",
       "706                                    0               0  \n",
       "67                                     0               0  \n",
       "257                                    0               1  \n",
       "\n",
       "[132000 rows x 11 columns]"
      ]
     },
     "execution_count": 8,
     "metadata": {},
     "output_type": "execute_result"
    }
   ],
   "source": [
    "synthetic_data_df"
   ]
  },
  {
   "cell_type": "markdown",
   "metadata": {},
   "source": [
    "## Test synthetic data to train model"
   ]
  },
  {
   "cell_type": "code",
   "execution_count": 9,
   "metadata": {},
   "outputs": [
    {
     "name": "stdout",
     "output_type": "stream",
     "text": [
      "Accuracy: 0.847\n"
     ]
    }
   ],
   "source": [
    "# Load data\n",
    "train = synthetic_data_df\n",
    "test = pd.read_csv(data_loc + 'cohort_10000_test.csv')\n",
    "\n",
    "# Select features\n",
    "train = train[key_features]\n",
    "test = test[key_features]\n",
    "\n",
    "# Get X and y\n",
    "X_train = train.drop('S2Thrombolysis', axis=1)\n",
    "X_test = test.drop('S2Thrombolysis', axis=1)\n",
    "y_train = train['S2Thrombolysis']\n",
    "y_test = test['S2Thrombolysis']\n",
    "\n",
    "# One hot encode hospitals\n",
    "X_train_hosp = pd.get_dummies(X_train['StrokeTeam'], prefix = 'team')\n",
    "X_train = pd.concat([X_train, X_train_hosp], axis=1)\n",
    "X_train.drop('StrokeTeam', axis=1, inplace=True)\n",
    "X_test_hosp = pd.get_dummies(X_test['StrokeTeam'], prefix = 'team')\n",
    "X_test = pd.concat([X_test, X_test_hosp], axis=1)\n",
    "X_test.drop('StrokeTeam', axis=1, inplace=True)    \n",
    "\n",
    "# Define model\n",
    "model = XGBClassifier(verbosity=0, seed=42, learning_rate=0.5)\n",
    "\n",
    "# Fit model\n",
    "model.fit(X_train, y_train)\n",
    "\n",
    "# Get predicted probabilities and class\n",
    "y_probs_synthetic = model.predict_proba(X_test)[:,1]\n",
    "y_pred_synthetic = y_probs_synthetic > 0.5\n",
    "\n",
    "# Show accuracy\n",
    "accuracy = np.mean(y_pred_synthetic == y_test)\n",
    "print (f'Accuracy: {accuracy:.3f}')"
   ]
  },
  {
   "cell_type": "code",
   "execution_count": 10,
   "metadata": {},
   "outputs": [
    {
     "name": "stdout",
     "output_type": "stream",
     "text": [
      "Original AUC: 0.915\n",
      "Synthetic AUC: 0.914\n"
     ]
    }
   ],
   "source": [
    "# Get ROC curves\n",
    "fpr_o, tpr_o, thresholds_o = roc_curve(y_test, y_probs_original)\n",
    "roc_auc_o = auc(fpr_o, tpr_o)\n",
    "fpr_s, tpr_s, thresholds_s = roc_curve(y_test, y_probs_synthetic)\n",
    "roc_auc_s = auc(fpr_s, tpr_s)\n",
    "\n",
    "# Print results\n",
    "print(f'Original AUC: {roc_auc_o:.3f}')\n",
    "print(f'Synthetic AUC: {roc_auc_s:.3f}')"
   ]
  },
  {
   "cell_type": "code",
   "execution_count": 11,
   "metadata": {},
   "outputs": [
    {
     "data": {
      "image/png": "[encoded data removed]",
      "text/plain": [
       "<Figure size 600x600 with 1 Axes>"
      ]
     },
     "metadata": {},
     "output_type": "display_data"
    }
   ],
   "source": [
    "# Plot ROC curves\n",
    "plt.figure(figsize=(6,6))\n",
    "ax = plt.subplot(111)\n",
    "ax.plot(fpr_o, tpr_o, label=f'Original (AUC = {roc_auc_o:.3f})')\n",
    "ax.plot(fpr_s, tpr_s, label=f'Synthetic (AUC = {roc_auc_s:.3f})')\n",
    "ax.plot([0,1], [0,1], linestyle='--', color='grey')\n",
    "ax.set_xlabel('False Positive Rate')\n",
    "ax.set_ylabel('True Positive Rate')\n",
    "ax.set_title('ROC Curve')\n",
    "ax.legend()\n",
    "ax.grid()\n",
    "plt.show()\n"
   ]
  },
  {
   "attachments": {},
   "cell_type": "markdown",
   "metadata": {},
   "source": [
    "## Examine distances between synthetic-real and real-real near neighbours\n",
    "\n",
    "Distance are Cartesian distance between standardised data points."
   ]
  },
  {
   "attachments": {},
   "cell_type": "markdown",
   "metadata": {},
   "source": [
    "### Function to standardise data"
   ]
  },
  {
   "cell_type": "code",
   "execution_count": 12,
   "metadata": {},
   "outputs": [],
   "source": [
    "def standardise_data(X_train, X_test):\n",
    "    \n",
    "    # Initialise a new scaling object for normalising input data\n",
    "    sc = StandardScaler() \n",
    "\n",
    "    # Set up the scaler just on the training set\n",
    "    sc.fit(X_train)\n",
    "\n",
    "    # Apply the scaler to the training and test sets\n",
    "    train_std=sc.transform(X_train)\n",
    "    test_std=sc.transform(X_test)\n",
    "    \n",
    "    return train_std, test_std"
   ]
  },
  {
   "cell_type": "code",
   "execution_count": 13,
   "metadata": {},
   "outputs": [],
   "source": [
    "# Set up lists to store results\n",
    "all_dist_real_real = []\n",
    "all_dist_real_synthetic = []\n",
    "\n",
    "for stroke_team in stroke_teams:\n",
    "\n",
    "    # Get original team data\n",
    "    mask = original_data['StrokeTeam'] == stroke_team\n",
    "    team_original = original_data[mask][key_features]\n",
    "    team_original.drop(['StrokeTeam', 'S2Thrombolysis'], axis=1, inplace=True)\n",
    "    original_size = len(team_original)\n",
    "\n",
    "    # Get synthetic data (match sample size to orginal data)\n",
    "    mask = synthetic_data_df['StrokeTeam'] == stroke_team\n",
    "    team_synthetic = synthetic_data_df[mask][key_features]\n",
    "    team_synthetic.drop(['StrokeTeam', 'S2Thrombolysis'], axis=1, inplace=True)\n",
    "    synthetic_size = len(team_synthetic)\n",
    "\n",
    "    # Reduce larger set to size of small set\n",
    "    if synthetic_size > original_size:\n",
    "        team_synthetic = team_synthetic.sample(original_size)\n",
    "    else:\n",
    "        team_original = team_original.sample(synthetic_size)\n",
    "\n",
    "    # Standardise\n",
    "    team_original_std, team_synthetic_std = standardise_data(\n",
    "        team_original, team_synthetic)\n",
    "\n",
    "    # Get nearest neighbour distances in real data\n",
    "    nn = NearestNeighbors(n_neighbors=1, algorithm='auto').fit(team_original_std)\n",
    "    dists, idxs = nn.kneighbors()\n",
    "    dist_real_real = dists.flatten()\n",
    "    all_dist_real_real.append(dist_real_real)\n",
    "\n",
    "    # Get closest real data point to synthetic data points\n",
    "    dists, idxs = nn.kneighbors(team_synthetic_std)\n",
    "    dist_real_synthetic = dists.flatten()\n",
    "    all_dist_real_synthetic.append(dist_real_synthetic)\n",
    "\n",
    "# Concatenate all distances\n",
    "all_dist_real_real = np.concatenate(np.array(all_dist_real_real))\n",
    "all_dist_real_synthetic = np.concatenate(np.array(all_dist_real_synthetic))"
   ]
  },
  {
   "attachments": {},
   "cell_type": "markdown",
   "metadata": {},
   "source": [
    "Show mean distances to closest real data point."
   ]
  },
  {
   "cell_type": "code",
   "execution_count": 14,
   "metadata": {},
   "outputs": [
    {
     "name": "stdout",
     "output_type": "stream",
     "text": [
      "Mean real-real distance: 0.697\n",
      "Mean real-synthetic distance: 0.741\n"
     ]
    }
   ],
   "source": [
    "print (f'Mean real-real distance: {np.mean(all_dist_real_real):.3f}')\n",
    "print (f'Mean real-synthetic distance: {np.mean(all_dist_real_synthetic):.3f}')"
   ]
  },
  {
   "attachments": {},
   "cell_type": "markdown",
   "metadata": {},
   "source": [
    "Plot distribution of distances to closest real data point."
   ]
  },
  {
   "cell_type": "code",
   "execution_count": 15,
   "metadata": {},
   "outputs": [
    {
     "data": {
      "image/png": "[encoded data removed]",
      "text/plain": [
       "<Figure size 600x600 with 1 Axes>"
      ]
     },
     "metadata": {},
     "output_type": "display_data"
    }
   ],
   "source": [
    "# Plot histogram of distances to nearest real data point\n",
    "bins = np.arange(0, 5.1, 0.1)\n",
    "fig = plt.figure(figsize=(6, 6))\n",
    "ax = fig.add_subplot(111)\n",
    "ax.hist(all_dist_real_real, bins=bins, histtype='step', color='b', \n",
    "        density=True, label='real-real')\n",
    "ax.hist(all_dist_real_synthetic, bins=bins, histtype='step', color='r', \n",
    "        density=True, label='synthetic-real')\n",
    "\n",
    "ax.set_xlabel('Distance to nearest neighbour')\n",
    "ax.set_ylabel('Frequency density')\n",
    "ax.legend()\n",
    "plt.show()"
   ]
  },
  {
   "attachments": {},
   "cell_type": "markdown",
   "metadata": {},
   "source": [
    "### Kolmogorov-Smirnov test for goodness of fit\n",
    "\n",
    "The Kolmogorov-Smirnov (KS) test for goodness of fit is a statistical test that compares the distribution of a sample to a theoretical distribution or a reference distribution. The test is used to determine whether the sample is drawn from the reference distribution or a different distribution.\n",
    "\n",
    "The KS test works by calculating the maximum distance between the cumulative distribution function (CDF) of the sample and the CDF of the reference distribution. The test statistic, called the D statistic, is the maximum absolute difference between the two CDFs. The null hypothesis of the KS test is that the sample is drawn from the reference distribution, and the alternative hypothesis is that the sample is drawn from a different distribution.\n",
    "\n",
    "The KS test can be used to test the goodness of fit of a wide range of distributions, including normal, exponential, and uniform distributions. It is a non-parametric test, which means that it does not make any assumptions about the underlying distribution of the data.\n",
    "\n",
    "In scipy `ks_2samp` tests the goddness between two sampled distributions (whereas `kstest` would test the difference between a samplesd and a theoretical distribution)."
   ]
  },
  {
   "cell_type": "code",
   "execution_count": 16,
   "metadata": {},
   "outputs": [
    {
     "name": "stdout",
     "output_type": "stream",
     "text": [
      "KS statistic: 0.071\n",
      "p-value: 0.000\n"
     ]
    }
   ],
   "source": [
    "# Kolmogorov-Smirnov test for goodness of fit.\n",
    "ks_stat, p_value = stats.ks_2samp(all_dist_real_real, all_dist_real_synthetic)\n",
    "print (f'KS statistic: {ks_stat:.3f}')\n",
    "print (f'p-value: {p_value:.3f}')"
   ]
  },
  {
   "attachments": {},
   "cell_type": "markdown",
   "metadata": {},
   "source": [
    "### Kullback-Leibler (KL) Divergence\n",
    "\n",
    "KL divergence is a measure of the difference between two probability distributions. It measures how much information is lost when approximating one distribution with the other. It is a non-symmetric measure, meaning that the distance from distribution A to distribution B may be different from the distance from B to A.\n",
    "\n",
    "Calculation:\n",
    "\n",
    "* Let P and Q be the two probability distributions that you want to compare.\n",
    "* Compute the pointwise ratio of the two distributions: R(x) = P(x) / Q(x).\n",
    "* Calculate the integral or sum of P(x) times the logarithm of R(x) over the entire support of P(x): KL(P||Q) = ∫ P(x) log (P(x) / Q(x)) dx.\n",
    "\n",
    "Note that KL divergence is not symmetric, meaning that KL(P||Q) may be different from KL(Q||P).\n",
    "\n",
    "Kullback-Leibler (KL) Divergence can sometimes result in an infinite value when one distribution has zero probability mass at a point where the other distribution has a non-zero probability mass. To avoid this issue, you can either smooth the distributions or add a small constant value to the probability mass to ensure that there are no zero probabilities."
   ]
  },
  {
   "cell_type": "code",
   "execution_count": 17,
   "metadata": {},
   "outputs": [
    {
     "name": "stdout",
     "output_type": "stream",
     "text": [
      "KL divergence: real || synthetic inf\n",
      "KL divergence: synthetic || real 0.016\n"
     ]
    }
   ],
   "source": [
    "## Measure Kullback-Leibler divergence from synthetic to real data\n",
    "\n",
    "# Bin original and synthetic data\n",
    "bins = np.arange(0, 5.1, 0.1)\n",
    "p, _ = np.histogram(all_dist_real_real, bins=bins, density=True)\n",
    "q, _ = np.histogram(all_dist_real_synthetic, bins=bins, density=True)\n",
    "\n",
    "# Normalize the distributions to make sure they sum to 1\n",
    "p = p / np.sum(p)\n",
    "q = q / np.sum(q)\n",
    "\n",
    "\n",
    "# Calculate and print the KL divergence\n",
    "kl_div = stats.entropy(p, q)\n",
    "print (f'KL divergence: real || synthetic {kl_div:.3f}')\n",
    "\n",
    "## Measure Kullback-Leibler divergence from real to synthetic data\n",
    "\n",
    "# Calculate and print the KL divergence\n",
    "kl_div = stats.entropy(q, p)\n",
    "print (f'KL divergence: synthetic || real {kl_div:.3f}')"
   ]
  },
  {
   "attachments": {},
   "cell_type": "markdown",
   "metadata": {},
   "source": [
    "### Jensen-Shannon (JS) Divergence\n",
    "\n",
    "JS divergence is a symmetrized and smoothed version of KL divergence. It measures the similarity between two probability distributions by computing the average KL divergence between them and their midpoint.\n",
    "\n",
    "Calculation:\n",
    "\n",
    "* Let P and Q be the two probability distributions that you want to compare.\n",
    "* Compute the midpoint distribution M = (P + Q) / 2.\n",
    "* Calculate the KL divergence between each distribution and the midpoint distribution: KL(P||M) and KL(Q||M).\n",
    "* Calculate the JS divergence as the average of the two KL divergences: JS(P,Q) = (KL(P||M) + KL(Q||M)) / 2.\n",
    "\n",
    "Note that JS divergence is a symmetrized and smoothed version of KL divergence."
   ]
  },
  {
   "cell_type": "code",
   "execution_count": 18,
   "metadata": {},
   "outputs": [
    {
     "name": "stdout",
     "output_type": "stream",
     "text": [
      "JS Divergence: 0.064\n"
     ]
    }
   ],
   "source": [
    "## Measure Jensen-Shannon (JS) Divergence\n",
    "\n",
    "# Bin original and synthetic data\n",
    "bins = np.arange(0, 5.1, 0.1)\n",
    "p, _ = np.histogram(all_dist_real_real, bins=bins, density=True)\n",
    "q, _ = np.histogram(all_dist_real_synthetic, bins=bins, density=True)\n",
    "\n",
    "# Normalize the distributions to make sure they sum to 1\n",
    "p = p / np.sum(p)\n",
    "q = q / np.sum(q)\n",
    "\n",
    "js_div = jensenshannon(p, q)\n",
    "print (f'JS Divergence: {js_div:.3f}')"
   ]
  }
 ],
 "metadata": {
  "kernelspec": {
   "display_name": "Python 3.8.15 ('samuel')",
   "language": "python",
   "name": "python3"
  },
  "language_info": {
   "codemirror_mode": {
    "name": "ipython",
    "version": 3
   },
   "file_extension": ".py",
   "mimetype": "text/x-python",
   "name": "python",
   "nbconvert_exporter": "python",
   "pygments_lexer": "ipython3",
   "version": "3.8.16"
  },
  "orig_nbformat": 4,
  "vscode": {
   "interpreter": {
    "hash": "b368e36a85415766688ec72e3e874a4b525584eabf4bf7122952a4e0fd64fcde"
   }
  }
 },
 "nbformat": 4,
 "nbformat_minor": 2
}
